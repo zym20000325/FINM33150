{
 "cells": [
  {
   "cell_type": "code",
   "execution_count": 1,
   "metadata": {},
   "outputs": [
    {
     "data": {
      "text/plain": [
       "'3.10.8 (main, Nov 24 2022, 08:09:04) [Clang 14.0.6 ]'"
      ]
     },
     "execution_count": 1,
     "metadata": {},
     "output_type": "execute_result"
    }
   ],
   "source": [
    "import sys\n",
    "sys.version"
   ]
  },
  {
   "cell_type": "code",
   "execution_count": 2,
   "metadata": {},
   "outputs": [],
   "source": [
    "%matplotlib inline\n",
    "\n",
    "import matplotlib.pyplot as plt\n",
    "plt.xkcd()\n",
    "\n",
    "import pandas as pd\n",
    "import numpy as np\n",
    "import scipy as sp\n",
    "import quandl\n",
    "import functools\n",
    "import seaborn as sns\n",
    "import plotnine as p9\n",
    "import statsmodels.api as sm\n",
    "import math\n",
    "\n",
    "pd.options.mode.chained_assignment = None "
   ]
  },
  {
   "cell_type": "code",
   "execution_count": 3,
   "metadata": {},
   "outputs": [],
   "source": [
    "from functions import *"
   ]
  },
  {
   "cell_type": "code",
   "execution_count": 4,
   "metadata": {},
   "outputs": [],
   "source": [
    "def filter_by_sector(tickers_list_,new_ticker_list,zacks_sector_code_list,tickers_remove_list,start_date,end_date):\n",
    "\n",
    "    for ticker in tickers_list_:\n",
    "\n",
    "        if ticker in tickers_remove_list:\n",
    "            continue\n",
    "\n",
    "        df_fc = quandl.get_table('ZACKS/FC',ticker = ticker, per_end_date = {'gte':start_date,'lte':end_date},qopts={\"columns\":\"zacks_sector_code\"})\n",
    "\n",
    "        if len(df_fc)!=0:\n",
    "            sector_code_list = list(df_fc['zacks_sector_code'])\n",
    "\n",
    "            if bool(set(zacks_sector_code_list) & set(sector_code_list))==False:\n",
    "                new_ticker_list.append(ticker)\n",
    "\n",
    "    return new_ticker_list"
   ]
  },
  {
   "cell_type": "code",
   "execution_count": 5,
   "metadata": {},
   "outputs": [],
   "source": [
    "start_date = '2014-06-30'\n",
    "end_date = '2022-06-30'\n",
    "\n",
    "df_tickers = pd.read_csv(\"zacks-tickers.csv\")\n",
    "tickers_list = list(df_tickers['3262Q'])\n",
    "\n",
    "zacks_sector_code_list = [5,13]\n",
    "tickers_remove_list = ['ABEO']\n",
    "\n",
    "new_ticker_list = []\n",
    "new_ticker_list = filter_by_sector(tickers_list[2000:3000],new_ticker_list,zacks_sector_code_list,tickers_remove_list,start_date,end_date)\n",
    "\n",
    "# new_ticker_list"
   ]
  },
  {
   "cell_type": "code",
   "execution_count": 6,
   "metadata": {},
   "outputs": [],
   "source": [
    "df_new_ticker3 = pd.DataFrame(new_ticker_list, columns =['ticker'])"
   ]
  },
  {
   "cell_type": "code",
   "execution_count": 7,
   "metadata": {},
   "outputs": [
    {
     "data": {
      "text/html": [
       "<div>\n",
       "<style scoped>\n",
       "    .dataframe tbody tr th:only-of-type {\n",
       "        vertical-align: middle;\n",
       "    }\n",
       "\n",
       "    .dataframe tbody tr th {\n",
       "        vertical-align: top;\n",
       "    }\n",
       "\n",
       "    .dataframe thead th {\n",
       "        text-align: right;\n",
       "    }\n",
       "</style>\n",
       "<table border=\"1\" class=\"dataframe\">\n",
       "  <thead>\n",
       "    <tr style=\"text-align: right;\">\n",
       "      <th></th>\n",
       "      <th>ticker</th>\n",
       "    </tr>\n",
       "  </thead>\n",
       "  <tbody>\n",
       "    <tr>\n",
       "      <th>0</th>\n",
       "      <td>CRPJY</td>\n",
       "    </tr>\n",
       "    <tr>\n",
       "      <th>1</th>\n",
       "      <td>CRPOF</td>\n",
       "    </tr>\n",
       "    <tr>\n",
       "      <th>2</th>\n",
       "      <td>CRRC</td>\n",
       "    </tr>\n",
       "    <tr>\n",
       "      <th>3</th>\n",
       "      <td>CRRFY</td>\n",
       "    </tr>\n",
       "    <tr>\n",
       "      <th>4</th>\n",
       "      <td>CRRSQ</td>\n",
       "    </tr>\n",
       "    <tr>\n",
       "      <th>...</th>\n",
       "      <td>...</td>\n",
       "    </tr>\n",
       "    <tr>\n",
       "      <th>577</th>\n",
       "      <td>FCS</td>\n",
       "    </tr>\n",
       "    <tr>\n",
       "      <th>578</th>\n",
       "      <td>FCSC</td>\n",
       "    </tr>\n",
       "    <tr>\n",
       "      <th>579</th>\n",
       "      <td>FCUUF</td>\n",
       "    </tr>\n",
       "    <tr>\n",
       "      <th>580</th>\n",
       "      <td>FCUV</td>\n",
       "    </tr>\n",
       "    <tr>\n",
       "      <th>581</th>\n",
       "      <td>FCX</td>\n",
       "    </tr>\n",
       "  </tbody>\n",
       "</table>\n",
       "<p>582 rows × 1 columns</p>\n",
       "</div>"
      ],
      "text/plain": [
       "    ticker\n",
       "0    CRPJY\n",
       "1    CRPOF\n",
       "2     CRRC\n",
       "3    CRRFY\n",
       "4    CRRSQ\n",
       "..     ...\n",
       "577    FCS\n",
       "578   FCSC\n",
       "579  FCUUF\n",
       "580   FCUV\n",
       "581    FCX\n",
       "\n",
       "[582 rows x 1 columns]"
      ]
     },
     "execution_count": 7,
     "metadata": {},
     "output_type": "execute_result"
    }
   ],
   "source": [
    "df_new_ticker3\n",
    "    "
   ]
  },
  {
   "cell_type": "code",
   "execution_count": 8,
   "metadata": {},
   "outputs": [],
   "source": [
    "df_new_ticker3.to_csv('filter_by_sector_3000.csv',index=False)"
   ]
  },
  {
   "cell_type": "code",
   "execution_count": 9,
   "metadata": {},
   "outputs": [],
   "source": [
    "new_ticker_list7 = []\n",
    "new_ticker_list7 = filter_by_sector(tickers_list[6000:7000],new_ticker_list,zacks_sector_code_list,tickers_remove_list,start_date,end_date)\n",
    "\n",
    "df_new_ticker7 = pd.DataFrame(new_ticker_list, columns =['ticker'])\n",
    "df_new_ticker7.to_csv('filter_by_sector_7000.csv',index=False)"
   ]
  },
  {
   "cell_type": "code",
   "execution_count": 10,
   "metadata": {},
   "outputs": [
    {
     "data": {
      "text/plain": [
       "1158"
      ]
     },
     "execution_count": 10,
     "metadata": {},
     "output_type": "execute_result"
    }
   ],
   "source": [
    "len(df_new_ticker7)"
   ]
  },
  {
   "cell_type": "code",
   "execution_count": 4,
   "metadata": {},
   "outputs": [
    {
     "name": "stdout",
     "output_type": "stream",
     "text": [
      "1158\n"
     ]
    }
   ],
   "source": [
    "def filter_by_adj_close(tickers_list_,start_date,end_date,num):\n",
    "\n",
    "    filter_by_adj_close_list = []\n",
    "\n",
    "    for ticker in tickers_list_:\n",
    "        df1 = get_adj_close(ticker,start_date,end_date)\n",
    "        if len(df1) == num:\n",
    "            filter_by_adj_close_list.append(ticker)\n",
    "\n",
    "    return filter_by_adj_close_list\n",
    "\n",
    "\n",
    "start_date = '2014-06-30'\n",
    "end_date = '2022-06-30'\n",
    "\n",
    "df7 = pd.read_csv(\"filter_by_sector_7000.csv\")\n",
    "ticker_list7 = list(df7['ticker'])\n",
    "print(len(ticker_list7))\n",
    "\n",
    "filter_by_adj_close_list7 = filter_by_adj_close(ticker_list7,start_date,end_date,2016)"
   ]
  },
  {
   "cell_type": "code",
   "execution_count": 5,
   "metadata": {},
   "outputs": [],
   "source": [
    "df_new_ticker7 = pd.DataFrame(filter_by_adj_close_list7, columns =['ticker'])\n",
    "df_new_ticker7.to_csv('filter_by_adj_close_7000.csv',index=False)"
   ]
  },
  {
   "cell_type": "code",
   "execution_count": 6,
   "metadata": {},
   "outputs": [
    {
     "data": {
      "text/plain": [
       "440"
      ]
     },
     "execution_count": 6,
     "metadata": {},
     "output_type": "execute_result"
    }
   ],
   "source": [
    "len(df_new_ticker7)"
   ]
  },
  {
   "cell_type": "code",
   "execution_count": 10,
   "metadata": {},
   "outputs": [],
   "source": [
    "def filter_by_debt_ratio(df_ticker,start_date,end_date):\n",
    "\n",
    "    df_ticker['debt_ratio_greater_than_0.1'] = 0\n",
    "\n",
    "    for i in range(len(df_ticker)):\n",
    "\n",
    "        ticker = df_ticker['ticker'][i]\n",
    "\n",
    "        df_zack = generate_zacks_data(ticker,start_date,end_date)\n",
    "        df_price = get_adj_close(ticker,start_date,end_date)\n",
    "\n",
    "        df = df_price.join(df_zack,how='outer')\n",
    "        df['adj_close'] =  df['adj_close'].fillna(method='ffill')\n",
    "\n",
    "        df1 = debt_to_market_cap(df,df_zack)\n",
    "\n",
    "        count = df1[['debt_to_market_cap']][df1[['debt_to_market_cap']]  > 0.1].count()\n",
    "\n",
    "        df_ticker['debt_ratio_greater_than_0.1'][i] = count\n",
    "\n",
    "        # if i==100:\n",
    "        #     break\n",
    "\n",
    "    return df_ticker"
   ]
  },
  {
   "cell_type": "code",
   "execution_count": 11,
   "metadata": {},
   "outputs": [
    {
     "name": "stdout",
     "output_type": "stream",
     "text": [
      "1975\n",
      "500\n"
     ]
    }
   ],
   "source": [
    "df_ticker_adj_close = pd.read_csv(\"filter_by_adj_close.csv\")\n",
    "print(len(df_ticker_adj_close))\n",
    "\n",
    "df_ticker_adj_close = df_ticker_adj_close[1000:1500]\n",
    "df_ticker_adj_close.reset_index(inplace=True)\n",
    "print(len(df_ticker_adj_close))\n",
    "\n",
    "df_ticker_debt_ratio3 = filter_by_debt_ratio(df_ticker_adj_close,start_date,end_date)"
   ]
  },
  {
   "cell_type": "code",
   "execution_count": 12,
   "metadata": {},
   "outputs": [
    {
     "data": {
      "text/html": [
       "<div>\n",
       "<style scoped>\n",
       "    .dataframe tbody tr th:only-of-type {\n",
       "        vertical-align: middle;\n",
       "    }\n",
       "\n",
       "    .dataframe tbody tr th {\n",
       "        vertical-align: top;\n",
       "    }\n",
       "\n",
       "    .dataframe thead th {\n",
       "        text-align: right;\n",
       "    }\n",
       "</style>\n",
       "<table border=\"1\" class=\"dataframe\">\n",
       "  <thead>\n",
       "    <tr style=\"text-align: right;\">\n",
       "      <th></th>\n",
       "      <th>index</th>\n",
       "      <th>ticker</th>\n",
       "      <th>debt_ratio_greater_than_0.1</th>\n",
       "    </tr>\n",
       "  </thead>\n",
       "  <tbody>\n",
       "    <tr>\n",
       "      <th>0</th>\n",
       "      <td>1000</td>\n",
       "      <td>DLTR</td>\n",
       "      <td>1990</td>\n",
       "    </tr>\n",
       "    <tr>\n",
       "      <th>1</th>\n",
       "      <td>1001</td>\n",
       "      <td>DLX</td>\n",
       "      <td>2001</td>\n",
       "    </tr>\n",
       "    <tr>\n",
       "      <th>2</th>\n",
       "      <td>1002</td>\n",
       "      <td>DMLP</td>\n",
       "      <td>0</td>\n",
       "    </tr>\n",
       "    <tr>\n",
       "      <th>3</th>\n",
       "      <td>1003</td>\n",
       "      <td>DMRC</td>\n",
       "      <td>132</td>\n",
       "    </tr>\n",
       "    <tr>\n",
       "      <th>4</th>\n",
       "      <td>1004</td>\n",
       "      <td>DNN</td>\n",
       "      <td>0</td>\n",
       "    </tr>\n",
       "    <tr>\n",
       "      <th>...</th>\n",
       "      <td>...</td>\n",
       "      <td>...</td>\n",
       "      <td>...</td>\n",
       "    </tr>\n",
       "    <tr>\n",
       "      <th>495</th>\n",
       "      <td>1495</td>\n",
       "      <td>HCA</td>\n",
       "      <td>484</td>\n",
       "    </tr>\n",
       "    <tr>\n",
       "      <th>496</th>\n",
       "      <td>1496</td>\n",
       "      <td>HCCI</td>\n",
       "      <td>1602</td>\n",
       "    </tr>\n",
       "    <tr>\n",
       "      <th>497</th>\n",
       "      <td>1497</td>\n",
       "      <td>HCKT</td>\n",
       "      <td>886</td>\n",
       "    </tr>\n",
       "    <tr>\n",
       "      <th>498</th>\n",
       "      <td>1498</td>\n",
       "      <td>HCSG</td>\n",
       "      <td>537</td>\n",
       "    </tr>\n",
       "    <tr>\n",
       "      <th>499</th>\n",
       "      <td>1499</td>\n",
       "      <td>HD</td>\n",
       "      <td>1495</td>\n",
       "    </tr>\n",
       "  </tbody>\n",
       "</table>\n",
       "<p>500 rows × 3 columns</p>\n",
       "</div>"
      ],
      "text/plain": [
       "     index ticker  debt_ratio_greater_than_0.1\n",
       "0     1000   DLTR                         1990\n",
       "1     1001    DLX                         2001\n",
       "2     1002   DMLP                            0\n",
       "3     1003   DMRC                          132\n",
       "4     1004    DNN                            0\n",
       "..     ...    ...                          ...\n",
       "495   1495    HCA                          484\n",
       "496   1496   HCCI                         1602\n",
       "497   1497   HCKT                          886\n",
       "498   1498   HCSG                          537\n",
       "499   1499     HD                         1495\n",
       "\n",
       "[500 rows x 3 columns]"
      ]
     },
     "execution_count": 12,
     "metadata": {},
     "output_type": "execute_result"
    }
   ],
   "source": [
    "df_ticker_debt_ratio3"
   ]
  },
  {
   "cell_type": "code",
   "execution_count": 13,
   "metadata": {},
   "outputs": [],
   "source": [
    "df_ticker_debt_ratio3.to_csv('filter_by_debt_ratio_3.csv',index=False)"
   ]
  },
  {
   "cell_type": "code",
   "execution_count": null,
   "metadata": {},
   "outputs": [],
   "source": []
  }
 ],
 "metadata": {
  "kernelspec": {
   "display_name": "quant",
   "language": "python",
   "name": "python3"
  },
  "language_info": {
   "codemirror_mode": {
    "name": "ipython",
    "version": 3
   },
   "file_extension": ".py",
   "mimetype": "text/x-python",
   "name": "python",
   "nbconvert_exporter": "python",
   "pygments_lexer": "ipython3",
   "version": "3.10.8"
  },
  "orig_nbformat": 4,
  "vscode": {
   "interpreter": {
    "hash": "46d33d01e5720d15a5013799ca97a1bf11234888e1a4f8baa721dca3d047cc65"
   }
  }
 },
 "nbformat": 4,
 "nbformat_minor": 2
}
