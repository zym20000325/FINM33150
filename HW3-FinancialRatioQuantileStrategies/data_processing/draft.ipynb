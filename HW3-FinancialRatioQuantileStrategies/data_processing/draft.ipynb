{
 "cells": [
  {
   "cell_type": "code",
   "execution_count": 1,
   "id": "f8b36f4f-1a25-4594-8647-2bd1c1e35562",
   "metadata": {},
   "outputs": [
    {
     "data": {
      "text/plain": [
       "'3.10.8 (main, Nov 24 2022, 08:09:04) [Clang 14.0.6 ]'"
      ]
     },
     "execution_count": 1,
     "metadata": {},
     "output_type": "execute_result"
    }
   ],
   "source": [
    "import sys\n",
    "sys.version"
   ]
  },
  {
   "cell_type": "code",
   "execution_count": 2,
   "id": "ec226fd1-e362-4003-97e9-10c654a4d78e",
   "metadata": {},
   "outputs": [],
   "source": [
    "%matplotlib inline"
   ]
  },
  {
   "cell_type": "code",
   "execution_count": 3,
   "id": "0855a0aa-a1f2-49ff-b989-87925e130224",
   "metadata": {},
   "outputs": [],
   "source": [
    "import matplotlib.pyplot as plt\n",
    "plt.xkcd()\n",
    "\n",
    "import pandas as pd\n",
    "import numpy as np\n",
    "import scipy as sp\n",
    "import quandl\n",
    "import functools\n",
    "import seaborn as sns\n",
    "import plotnine as p9\n",
    "import statsmodels.api as sm\n",
    "import math\n",
    "\n",
    "pd.options.mode.chained_assignment = None "
   ]
  },
  {
   "cell_type": "code",
   "execution_count": 4,
   "id": "d01ac814-5b6e-4536-8503-1737b93a1001",
   "metadata": {},
   "outputs": [],
   "source": [
    "from functions import *"
   ]
  },
  {
   "cell_type": "code",
   "execution_count": null,
   "id": "6bccd289-2f79-43c2-82a4-7f1e71cd7f15",
   "metadata": {},
   "outputs": [],
   "source": [
    "df_zack = generate_zacks_data('LLY','2015-01-01','2023-01-31')\n",
    "df_zack.head()"
   ]
  },
  {
   "cell_type": "code",
   "execution_count": null,
   "id": "bb039f9b",
   "metadata": {},
   "outputs": [],
   "source": [
    "df_zack['net_lterm_debt'] = df_zack['net_lterm_debt'].fillna(df_zack['tot_lterm_debt'])\n",
    "\n",
    "df_zack['R'] = df_zack['ret_invst']*(df_zack['net_lterm_debt']+df_zack['mkt_val'])\n",
    "df_zack.head()"
   ]
  },
  {
   "cell_type": "code",
   "execution_count": null,
   "id": "87bba037-d1d2-4e58-94b8-1d86ed1ee9e2",
   "metadata": {},
   "outputs": [],
   "source": [
    "df_fc = fill_zacks_fc('LLY','2015-01-01','2023-01-31')\n",
    "df_fr = fill_zacks_fr('LLY','2015-01-01','2023-01-31')\n",
    "df_mktv = fill_zacks_mktv('LLY','2015-01-01','2023-01-31')\n",
    "df_shrs = fill_zacks_shrs('LLY','2015-01-01','2023-01-31')\n",
    "\n",
    "df_price = get_adj_close('LLY','2015-01-01','2023-01-31')"
   ]
  },
  {
   "cell_type": "code",
   "execution_count": null,
   "id": "eca7e841-fab6-4f63-9543-4777820d8e9f",
   "metadata": {},
   "outputs": [],
   "source": [
    "df = df_price.join(df_zack,how='outer')\n",
    "\n",
    "df['LLY_adj_close'] =  df['LLY_adj_close'].fillna(method='ffill')"
   ]
  },
  {
   "cell_type": "code",
   "execution_count": null,
   "id": "77f6a636-ad41-44d4-b9e0-9659ffad2185",
   "metadata": {},
   "outputs": [],
   "source": [
    "df[df['filing_date'].notna()]"
   ]
  },
  {
   "cell_type": "code",
   "execution_count": null,
   "id": "b50cf138",
   "metadata": {},
   "outputs": [],
   "source": [
    "df_mkt_val = df_zack[['per_end_date','filing_date','mkt_val','net_lterm_debt','R']]\n",
    "df_mkt_val = df_mkt_val.join(df['LLY_adj_close'])"
   ]
  },
  {
   "cell_type": "code",
   "execution_count": null,
   "id": "c7b957ee",
   "metadata": {},
   "outputs": [],
   "source": [
    "df_mkt_val"
   ]
  },
  {
   "cell_type": "code",
   "execution_count": null,
   "id": "436c4fd2",
   "metadata": {},
   "outputs": [],
   "source": []
  },
  {
   "cell_type": "code",
   "execution_count": null,
   "id": "0d8165a8",
   "metadata": {},
   "outputs": [],
   "source": [
    "df_mkt_val['date'] = df_mkt_val['filing_date']\n",
    "df_mkt_val = df_mkt_val.set_index(['date'])\n",
    "df_mkt_val = df_mkt_val[['mkt_val','LLY_adj_close','net_lterm_debt','R']]\n",
    "df_mkt_val = df_mkt_val.rename(columns={'LLY_adj_close': 'adj_close'})\n",
    "df_mkt_val"
   ]
  },
  {
   "cell_type": "code",
   "execution_count": null,
   "id": "091ceca3",
   "metadata": {},
   "outputs": [],
   "source": [
    "df_mkt_val_daily = df[['LLY_adj_close']].join(df_mkt_val)\n",
    "df_mkt_val_daily['mkt_val'] =  df_mkt_val_daily['mkt_val'].fillna(method='ffill')\n",
    "df_mkt_val_daily['adj_close'] =  df_mkt_val_daily['adj_close'].fillna(method='ffill')\n",
    "df_mkt_val_daily['net_lterm_debt'] =  df_mkt_val_daily['net_lterm_debt'].fillna(method='ffill')\n",
    "df_mkt_val_daily['R'] =  df_mkt_val_daily['R'].fillna(method='ffill')\n",
    "df_mkt_val_daily"
   ]
  },
  {
   "cell_type": "code",
   "execution_count": null,
   "id": "085489f3",
   "metadata": {},
   "outputs": [],
   "source": [
    "df_mkt_val_daily['mkt_val_daily'] = df_mkt_val_daily['mkt_val']*df_mkt_val_daily['LLY_adj_close'] /df_mkt_val_daily['adj_close'] \n",
    "df_mkt_val_daily.tail()"
   ]
  },
  {
   "cell_type": "code",
   "execution_count": null,
   "id": "eddadc92",
   "metadata": {},
   "outputs": [],
   "source": [
    "df_mkt_val_daily.loc['2015-04-30':'2015-07-30']"
   ]
  },
  {
   "cell_type": "code",
   "execution_count": null,
   "id": "ee9bfc51",
   "metadata": {},
   "outputs": [],
   "source": [
    "df_mkt_val_daily.loc['2022-02-23']"
   ]
  },
  {
   "cell_type": "code",
   "execution_count": null,
   "id": "62c934aa",
   "metadata": {},
   "outputs": [],
   "source": [
    "df_mkt_val_daily['return_on_investment'] = df_mkt_val_daily['R']/(df_mkt_val_daily['net_lterm_debt']+df_mkt_val_daily['mkt_val_daily'])\n",
    "df_mkt_val_daily.tail()"
   ]
  },
  {
   "cell_type": "code",
   "execution_count": null,
   "id": "4cf4c58b",
   "metadata": {},
   "outputs": [],
   "source": [
    "df_mkt_val_daily.loc['2020-10-29']"
   ]
  },
  {
   "cell_type": "code",
   "execution_count": null,
   "id": "ab00e1de",
   "metadata": {},
   "outputs": [],
   "source": [
    "df_mkt_val_daily.loc['2020-12-31']"
   ]
  },
  {
   "cell_type": "code",
   "execution_count": null,
   "id": "a1b9f046",
   "metadata": {},
   "outputs": [],
   "source": [
    "df_mkt_val_daily.loc['2021-08-04']"
   ]
  },
  {
   "cell_type": "code",
   "execution_count": 83,
   "id": "6015ff53",
   "metadata": {},
   "outputs": [],
   "source": [
    "def debt_to_market_cap(df,df_zack):\n",
    "\n",
    "    df_tdte = df_zack[['per_end_date','filing_date','tot_debt_tot_equity']]\n",
    "\n",
    "    df_tdte = df_tdte.join(df['adj_close'])   \n",
    "\n",
    "    df_tdte['date'] = df_tdte['filing_date']\n",
    "    df_tdte = df_tdte.set_index(['date'])\n",
    "    df_tdte= df_tdte[['adj_close','tot_debt_tot_equity']]\n",
    "    df_tdte = df_tdte.rename(columns={'adj_close': 'quarter_adj_close'})\n",
    "\n",
    "    df_debt_to_market_cap = df[['adj_close']].join(df_tdte)\n",
    "\n",
    "    df_debt_to_market_cap['quarter_adj_close'] =  df_debt_to_market_cap['quarter_adj_close'].fillna(method='ffill')\n",
    "    df_debt_to_market_cap['tot_debt_tot_equity'] =  df_debt_to_market_cap['tot_debt_tot_equity'].fillna(method='ffill')\n",
    "\n",
    "    df_debt_to_market_cap['debt_to_market_cap'] = df_debt_to_market_cap['tot_debt_tot_equity']*df_debt_to_market_cap['quarter_adj_close']/df_debt_to_market_cap['adj_close']\n",
    "\n",
    "    return df_debt_to_market_cap\n",
    "\n",
    "\n",
    "def return_on_investment(df,df_zack):\n",
    "\n",
    "    df_zack['net_lterm_debt'] = df_zack['net_lterm_debt'].fillna(df_zack['tot_lterm_debt'])\n",
    "    df_zack['R'] = df_zack['ret_invst']*(df_zack['net_lterm_debt']+df_zack['mkt_val'])\n",
    "\n",
    "    df_mkt_val = df_zack[['per_end_date','filing_date','mkt_val','net_lterm_debt','R']]\n",
    "    df_mkt_val = df_mkt_val.join(df['adj_close'])   \n",
    "\n",
    "    df_mkt_val['date'] = df_mkt_val['filing_date']\n",
    "    df_mkt_val = df_mkt_val.set_index(['date'])\n",
    "    df_mkt_val = df_mkt_val[['mkt_val','adj_close','net_lterm_debt','R']]\n",
    "    df_mkt_val = df_mkt_val.rename(columns={'adj_close': 'quarter_adj_close'})\n",
    "\n",
    "    df_mkt_val_daily = df[['adj_close']].join(df_mkt_val)\n",
    "    df_mkt_val_daily['mkt_val'] =  df_mkt_val_daily['mkt_val'].fillna(method='ffill')\n",
    "    df_mkt_val_daily['quarter_adj_close'] =  df_mkt_val_daily['quarter_adj_close'].fillna(method='ffill')\n",
    "    df_mkt_val_daily['net_lterm_debt'] =  df_mkt_val_daily['net_lterm_debt'].fillna(method='ffill')\n",
    "    df_mkt_val_daily['R'] =  df_mkt_val_daily['R'].fillna(method='ffill')\n",
    "\n",
    "    df_mkt_val_daily['mkt_val_daily'] = df_mkt_val_daily['mkt_val']*df_mkt_val_daily['adj_close'] /df_mkt_val_daily['quarter_adj_close'] \n",
    "    \n",
    "    df_mkt_val_daily['return_on_investment'] = df_mkt_val_daily['R']/(df_mkt_val_daily['net_lterm_debt']+df_mkt_val_daily['mkt_val_daily'])\n",
    "\n",
    "    df['return_on_investment'] = df_mkt_val_daily['return_on_investment']\n",
    "\n",
    "    return df_mkt_val_daily\n",
    "\n",
    "def price_to_earnings(df,df_zack):\n",
    "\n",
    "    df_zack['eps_diluted_net'] = df_zack['eps_diluted_net'].fillna(df_zack['basic_net_eps'])\n",
    "    df_zack.eps_diluted_net = np.where(df_zack.eps_diluted_net < 0, 0.001, df_zack.eps_diluted_net)\n",
    "\n",
    "    df_pte = df_zack[['per_end_date','filing_date','eps_diluted_net']]  \n",
    "\n",
    "    df_pte['date'] = df_pte['filing_date']\n",
    "    df_pte= df_pte.set_index(['date'])\n",
    "    df_pte = df_pte[['eps_diluted_net']]\n",
    "\n",
    "    df_pte_daily = df[['adj_close']].join(df_pte)\n",
    "    df_pte_daily['eps_diluted_net'] =  df_pte_daily['eps_diluted_net'].fillna(method='ffill')\n",
    "\n",
    "    df_pte_daily['price_to_earnings'] = df_pte_daily['adj_close']/(df_pte_daily['eps_diluted_net'])\n",
    "\n",
    "    return df_pte_daily"
   ]
  },
  {
   "cell_type": "code",
   "execution_count": 84,
   "id": "e5efc637",
   "metadata": {},
   "outputs": [],
   "source": [
    "def calculate_ratio(ticker,start_date,end_date):\n",
    "\n",
    "    df_zack = generate_zacks_data(ticker,start_date,end_date)\n",
    "    df_price = get_adj_close(ticker,start_date,end_date)\n",
    "\n",
    "    df = df_price.join(df_zack,how='outer')\n",
    "    df['adj_close'] =  df['adj_close'].fillna(method='ffill')\n",
    "\n",
    "    df1 = debt_to_market_cap(df,df_zack)\n",
    "    df2 = return_on_investment(df,df_zack)\n",
    "    df3 = price_to_earnings(df,df_zack)\n",
    "\n",
    "    df['debt_to_market_cap'] = df1['debt_to_market_cap']\n",
    "    df['return_on_investment'] = df2['return_on_investment']\n",
    "    df['price_to_earnings'] = df3['price_to_earnings']\n",
    "\n",
    "    return df[['debt_to_market_cap','return_on_investment','price_to_earnings']]\n"
   ]
  },
  {
   "cell_type": "code",
   "execution_count": 85,
   "id": "b0079414",
   "metadata": {},
   "outputs": [],
   "source": [
    "df = calculate_ratio('LLY','2014-09-30','2023-01-31')"
   ]
  },
  {
   "cell_type": "code",
   "execution_count": 86,
   "id": "82b9fd17",
   "metadata": {},
   "outputs": [
    {
     "data": {
      "text/html": [
       "<div>\n",
       "<style scoped>\n",
       "    .dataframe tbody tr th:only-of-type {\n",
       "        vertical-align: middle;\n",
       "    }\n",
       "\n",
       "    .dataframe tbody tr th {\n",
       "        vertical-align: top;\n",
       "    }\n",
       "\n",
       "    .dataframe thead th {\n",
       "        text-align: right;\n",
       "    }\n",
       "</style>\n",
       "<table border=\"1\" class=\"dataframe\">\n",
       "  <thead>\n",
       "    <tr style=\"text-align: right;\">\n",
       "      <th></th>\n",
       "      <th>debt_to_market_cap</th>\n",
       "      <th>return_on_investment</th>\n",
       "      <th>price_to_earnings</th>\n",
       "    </tr>\n",
       "    <tr>\n",
       "      <th>date</th>\n",
       "      <th></th>\n",
       "      <th></th>\n",
       "      <th></th>\n",
       "    </tr>\n",
       "  </thead>\n",
       "  <tbody>\n",
       "    <tr>\n",
       "      <th>2021-02-18</th>\n",
       "      <td>2.381655</td>\n",
       "      <td>7.910124</td>\n",
       "      <td>84.975909</td>\n",
       "    </tr>\n",
       "    <tr>\n",
       "      <th>2021-03-31</th>\n",
       "      <td>2.563957</td>\n",
       "      <td>8.509632</td>\n",
       "      <td>78.933966</td>\n",
       "    </tr>\n",
       "    <tr>\n",
       "      <th>2021-04-01</th>\n",
       "      <td>2.585826</td>\n",
       "      <td>8.581494</td>\n",
       "      <td>78.266395</td>\n",
       "    </tr>\n",
       "  </tbody>\n",
       "</table>\n",
       "</div>"
      ],
      "text/plain": [
       "            debt_to_market_cap  return_on_investment  price_to_earnings\n",
       "date                                                                   \n",
       "2021-02-18            2.381655              7.910124          84.975909\n",
       "2021-03-31            2.563957              8.509632          78.933966\n",
       "2021-04-01            2.585826              8.581494          78.266395"
      ]
     },
     "execution_count": 86,
     "metadata": {},
     "output_type": "execute_result"
    }
   ],
   "source": [
    "df.loc[['2021-02-18','2021-03-31','2021-04-01']]"
   ]
  },
  {
   "cell_type": "code",
   "execution_count": null,
   "id": "ff60e953",
   "metadata": {},
   "outputs": [],
   "source": []
  },
  {
   "cell_type": "code",
   "execution_count": null,
   "id": "365ca23d",
   "metadata": {},
   "outputs": [],
   "source": []
  }
 ],
 "metadata": {
  "kernelspec": {
   "display_name": "quant",
   "language": "python",
   "name": "python3"
  },
  "language_info": {
   "codemirror_mode": {
    "name": "ipython",
    "version": 3
   },
   "file_extension": ".py",
   "mimetype": "text/x-python",
   "name": "python",
   "nbconvert_exporter": "python",
   "pygments_lexer": "ipython3",
   "version": "3.10.8 (main, Nov 24 2022, 08:09:04) [Clang 14.0.6 ]"
  },
  "vscode": {
   "interpreter": {
    "hash": "46d33d01e5720d15a5013799ca97a1bf11234888e1a4f8baa721dca3d047cc65"
   }
  }
 },
 "nbformat": 4,
 "nbformat_minor": 5
}
