{
 "cells": [
  {
   "cell_type": "code",
   "execution_count": 1,
   "metadata": {},
   "outputs": [
    {
     "data": {
      "text/plain": [
       "'3.10.8 (main, Nov 24 2022, 08:09:04) [Clang 14.0.6 ]'"
      ]
     },
     "execution_count": 1,
     "metadata": {},
     "output_type": "execute_result"
    }
   ],
   "source": [
    "import sys\n",
    "sys.version"
   ]
  },
  {
   "cell_type": "code",
   "execution_count": 2,
   "metadata": {},
   "outputs": [],
   "source": [
    "%matplotlib inline\n",
    "\n",
    "import matplotlib.pyplot as plt\n",
    "plt.xkcd()\n",
    "\n",
    "import pandas as pd\n",
    "import numpy as np\n",
    "import scipy as sp\n",
    "import quandl\n",
    "import functools\n",
    "import seaborn as sns\n",
    "import plotnine as p9\n",
    "import statsmodels.api as sm\n",
    "import math\n",
    "\n",
    "pd.options.mode.chained_assignment = None "
   ]
  },
  {
   "cell_type": "code",
   "execution_count": 3,
   "metadata": {},
   "outputs": [],
   "source": [
    "from functions import *"
   ]
  },
  {
   "cell_type": "code",
   "execution_count": 4,
   "metadata": {},
   "outputs": [],
   "source": [
    "def filter_by_sector(tickers_list_,new_ticker_list,zacks_sector_code_list,tickers_remove_list,start_date,end_date):\n",
    "\n",
    "    for ticker in tickers_list_:\n",
    "\n",
    "        if ticker in tickers_remove_list:\n",
    "            continue\n",
    "\n",
    "        df_fc = quandl.get_table('ZACKS/FC',ticker = ticker, per_end_date = {'gte':start_date,'lte':end_date},qopts={\"columns\":\"zacks_sector_code\"})\n",
    "\n",
    "        if len(df_fc)!=0:\n",
    "            sector_code_list = list(df_fc['zacks_sector_code'])\n",
    "\n",
    "            if bool(set(zacks_sector_code_list) & set(sector_code_list))==False:\n",
    "                new_ticker_list.append(ticker)\n",
    "\n",
    "    return new_ticker_list"
   ]
  },
  {
   "cell_type": "code",
   "execution_count": 5,
   "metadata": {},
   "outputs": [],
   "source": [
    "start_date = '2014-06-30'\n",
    "end_date = '2022-06-30'\n",
    "\n",
    "df_tickers = pd.read_csv(\"zacks-tickers.csv\")\n",
    "tickers_list = list(df_tickers['3262Q'])\n",
    "\n",
    "zacks_sector_code_list = [5,13]\n",
    "tickers_remove_list = ['ABEO']\n",
    "\n",
    "new_ticker_list = []\n",
    "new_ticker_list = filter_by_sector(tickers_list[1000:2000],new_ticker_list,zacks_sector_code_list,tickers_remove_list,start_date,end_date)\n",
    "\n",
    "# new_ticker_list"
   ]
  },
  {
   "cell_type": "code",
   "execution_count": 6,
   "metadata": {},
   "outputs": [],
   "source": [
    "df_new_ticker2 = pd.DataFrame(new_ticker_list, columns =['ticker'])"
   ]
  },
  {
   "cell_type": "code",
   "execution_count": 7,
   "metadata": {},
   "outputs": [
    {
     "data": {
      "text/html": [
       "<div>\n",
       "<style scoped>\n",
       "    .dataframe tbody tr th:only-of-type {\n",
       "        vertical-align: middle;\n",
       "    }\n",
       "\n",
       "    .dataframe tbody tr th {\n",
       "        vertical-align: top;\n",
       "    }\n",
       "\n",
       "    .dataframe thead th {\n",
       "        text-align: right;\n",
       "    }\n",
       "</style>\n",
       "<table border=\"1\" class=\"dataframe\">\n",
       "  <thead>\n",
       "    <tr style=\"text-align: right;\">\n",
       "      <th></th>\n",
       "      <th>ticker</th>\n",
       "    </tr>\n",
       "  </thead>\n",
       "  <tbody>\n",
       "    <tr>\n",
       "      <th>0</th>\n",
       "      <td>BIOAF</td>\n",
       "    </tr>\n",
       "    <tr>\n",
       "      <th>1</th>\n",
       "      <td>BIO.B</td>\n",
       "    </tr>\n",
       "    <tr>\n",
       "      <th>2</th>\n",
       "      <td>BIOC</td>\n",
       "    </tr>\n",
       "    <tr>\n",
       "      <th>3</th>\n",
       "      <td>BIOL</td>\n",
       "    </tr>\n",
       "    <tr>\n",
       "      <th>4</th>\n",
       "      <td>BIOQ</td>\n",
       "    </tr>\n",
       "    <tr>\n",
       "      <th>...</th>\n",
       "      <td>...</td>\n",
       "    </tr>\n",
       "    <tr>\n",
       "      <th>531</th>\n",
       "      <td>CRMT</td>\n",
       "    </tr>\n",
       "    <tr>\n",
       "      <th>532</th>\n",
       "      <td>CRMZ</td>\n",
       "    </tr>\n",
       "    <tr>\n",
       "      <th>533</th>\n",
       "      <td>CRNCY</td>\n",
       "    </tr>\n",
       "    <tr>\n",
       "      <th>534</th>\n",
       "      <td>CRNT</td>\n",
       "    </tr>\n",
       "    <tr>\n",
       "      <th>535</th>\n",
       "      <td>CROX</td>\n",
       "    </tr>\n",
       "  </tbody>\n",
       "</table>\n",
       "<p>536 rows × 1 columns</p>\n",
       "</div>"
      ],
      "text/plain": [
       "    ticker\n",
       "0    BIOAF\n",
       "1    BIO.B\n",
       "2     BIOC\n",
       "3     BIOL\n",
       "4     BIOQ\n",
       "..     ...\n",
       "531   CRMT\n",
       "532   CRMZ\n",
       "533  CRNCY\n",
       "534   CRNT\n",
       "535   CROX\n",
       "\n",
       "[536 rows x 1 columns]"
      ]
     },
     "execution_count": 7,
     "metadata": {},
     "output_type": "execute_result"
    }
   ],
   "source": [
    "df_new_ticker2\n",
    "    "
   ]
  },
  {
   "cell_type": "code",
   "execution_count": 8,
   "metadata": {},
   "outputs": [],
   "source": [
    "df_new_ticker2.to_csv('filter_by_sector_2000.csv',index=False)"
   ]
  },
  {
   "cell_type": "code",
   "execution_count": 9,
   "metadata": {},
   "outputs": [],
   "source": [
    "new_ticker_list6 = []\n",
    "new_ticker_list6 = filter_by_sector(tickers_list[5000:6000],new_ticker_list,zacks_sector_code_list,tickers_remove_list,start_date,end_date)\n",
    "\n",
    "df_new_ticker6 = pd.DataFrame(new_ticker_list, columns =['ticker'])\n",
    "df_new_ticker6.to_csv('filter_by_sector_6000.csv',index=False)"
   ]
  },
  {
   "cell_type": "code",
   "execution_count": 10,
   "metadata": {},
   "outputs": [
    {
     "data": {
      "text/plain": [
       "1116"
      ]
     },
     "execution_count": 10,
     "metadata": {},
     "output_type": "execute_result"
    }
   ],
   "source": [
    "len(df_new_ticker6)"
   ]
  },
  {
   "cell_type": "code",
   "execution_count": 4,
   "metadata": {},
   "outputs": [
    {
     "name": "stdout",
     "output_type": "stream",
     "text": [
      "1116\n"
     ]
    }
   ],
   "source": [
    "def filter_by_adj_close(tickers_list_,start_date,end_date,num):\n",
    "\n",
    "    filter_by_adj_close_list = []\n",
    "\n",
    "    for ticker in tickers_list_:\n",
    "        df1 = get_adj_close(ticker,start_date,end_date)\n",
    "        if len(df1) == num:\n",
    "            filter_by_adj_close_list.append(ticker)\n",
    "\n",
    "    return filter_by_adj_close_list\n",
    "\n",
    "\n",
    "start_date = '2014-06-30'\n",
    "end_date = '2022-06-30'\n",
    "\n",
    "df6 = pd.read_csv(\"filter_by_sector_6000.csv\")\n",
    "ticker_list6 = list(df6['ticker'])\n",
    "print(len(ticker_list6))\n",
    "\n",
    "filter_by_adj_close_list6 = filter_by_adj_close(ticker_list6,start_date,end_date,2016)"
   ]
  },
  {
   "cell_type": "code",
   "execution_count": 5,
   "metadata": {},
   "outputs": [],
   "source": [
    "df_new_ticker6 = pd.DataFrame(filter_by_adj_close_list6, columns =['ticker'])\n",
    "df_new_ticker6.to_csv('filter_by_adj_close_6000.csv',index=False)"
   ]
  },
  {
   "cell_type": "code",
   "execution_count": 6,
   "metadata": {},
   "outputs": [
    {
     "data": {
      "text/plain": [
       "444"
      ]
     },
     "execution_count": 6,
     "metadata": {},
     "output_type": "execute_result"
    }
   ],
   "source": [
    "len(df_new_ticker6)"
   ]
  },
  {
   "cell_type": "code",
   "execution_count": null,
   "metadata": {},
   "outputs": [],
   "source": []
  },
  {
   "cell_type": "code",
   "execution_count": 9,
   "metadata": {},
   "outputs": [],
   "source": [
    "def filter_by_debt_ratio(df_ticker,start_date,end_date):\n",
    "\n",
    "    df_ticker['debt_ratio_greater_than_0.1'] = 0\n",
    "\n",
    "    for i in range(len(df_ticker)):\n",
    "\n",
    "        ticker = df_ticker['ticker'][i]\n",
    "\n",
    "        df_zack = generate_zacks_data(ticker,start_date,end_date)\n",
    "        df_price = get_adj_close(ticker,start_date,end_date)\n",
    "\n",
    "        df = df_price.join(df_zack,how='outer')\n",
    "        df['adj_close'] =  df['adj_close'].fillna(method='ffill')\n",
    "\n",
    "        df1 = debt_to_market_cap(df,df_zack)\n",
    "\n",
    "        count = df1[['debt_to_market_cap']][df1[['debt_to_market_cap']]  > 0.1].count()\n",
    "\n",
    "        df_ticker['debt_ratio_greater_than_0.1'][i] = count\n",
    "\n",
    "        # if i==100:\n",
    "        #     break\n",
    "\n",
    "    return df_ticker"
   ]
  },
  {
   "cell_type": "code",
   "execution_count": 10,
   "metadata": {},
   "outputs": [
    {
     "name": "stdout",
     "output_type": "stream",
     "text": [
      "1975\n",
      "500\n"
     ]
    }
   ],
   "source": [
    "df_ticker_adj_close = pd.read_csv(\"filter_by_adj_close.csv\")\n",
    "print(len(df_ticker_adj_close))\n",
    "\n",
    "df_ticker_adj_close = df_ticker_adj_close[500:1000]\n",
    "df_ticker_adj_close.reset_index(inplace=True)\n",
    "print(len(df_ticker_adj_close))\n",
    "\n",
    "df_ticker_debt_ratio2 = filter_by_debt_ratio(df_ticker_adj_close,start_date,end_date)"
   ]
  },
  {
   "cell_type": "code",
   "execution_count": 11,
   "metadata": {},
   "outputs": [
    {
     "data": {
      "text/html": [
       "<div>\n",
       "<style scoped>\n",
       "    .dataframe tbody tr th:only-of-type {\n",
       "        vertical-align: middle;\n",
       "    }\n",
       "\n",
       "    .dataframe tbody tr th {\n",
       "        vertical-align: top;\n",
       "    }\n",
       "\n",
       "    .dataframe thead th {\n",
       "        text-align: right;\n",
       "    }\n",
       "</style>\n",
       "<table border=\"1\" class=\"dataframe\">\n",
       "  <thead>\n",
       "    <tr style=\"text-align: right;\">\n",
       "      <th></th>\n",
       "      <th>index</th>\n",
       "      <th>ticker</th>\n",
       "      <th>debt_ratio_greater_than_0.1</th>\n",
       "    </tr>\n",
       "  </thead>\n",
       "  <tbody>\n",
       "    <tr>\n",
       "      <th>0</th>\n",
       "      <td>500</td>\n",
       "      <td>BTI</td>\n",
       "      <td>0</td>\n",
       "    </tr>\n",
       "    <tr>\n",
       "      <th>1</th>\n",
       "      <td>501</td>\n",
       "      <td>BUD</td>\n",
       "      <td>0</td>\n",
       "    </tr>\n",
       "    <tr>\n",
       "      <th>2</th>\n",
       "      <td>502</td>\n",
       "      <td>BURL</td>\n",
       "      <td>1084</td>\n",
       "    </tr>\n",
       "    <tr>\n",
       "      <th>3</th>\n",
       "      <td>503</td>\n",
       "      <td>BVN</td>\n",
       "      <td>0</td>\n",
       "    </tr>\n",
       "    <tr>\n",
       "      <th>4</th>\n",
       "      <td>504</td>\n",
       "      <td>BWEN</td>\n",
       "      <td>1435</td>\n",
       "    </tr>\n",
       "    <tr>\n",
       "      <th>...</th>\n",
       "      <td>...</td>\n",
       "      <td>...</td>\n",
       "      <td>...</td>\n",
       "    </tr>\n",
       "    <tr>\n",
       "      <th>495</th>\n",
       "      <td>995</td>\n",
       "      <td>DKL</td>\n",
       "      <td>188</td>\n",
       "    </tr>\n",
       "    <tr>\n",
       "      <th>496</th>\n",
       "      <td>996</td>\n",
       "      <td>DKS</td>\n",
       "      <td>1469</td>\n",
       "    </tr>\n",
       "    <tr>\n",
       "      <th>497</th>\n",
       "      <td>997</td>\n",
       "      <td>DLA</td>\n",
       "      <td>1998</td>\n",
       "    </tr>\n",
       "    <tr>\n",
       "      <th>498</th>\n",
       "      <td>998</td>\n",
       "      <td>DLB</td>\n",
       "      <td>0</td>\n",
       "    </tr>\n",
       "    <tr>\n",
       "      <th>499</th>\n",
       "      <td>999</td>\n",
       "      <td>DLNG</td>\n",
       "      <td>0</td>\n",
       "    </tr>\n",
       "  </tbody>\n",
       "</table>\n",
       "<p>500 rows × 3 columns</p>\n",
       "</div>"
      ],
      "text/plain": [
       "     index ticker  debt_ratio_greater_than_0.1\n",
       "0      500    BTI                            0\n",
       "1      501    BUD                            0\n",
       "2      502   BURL                         1084\n",
       "3      503    BVN                            0\n",
       "4      504   BWEN                         1435\n",
       "..     ...    ...                          ...\n",
       "495    995    DKL                          188\n",
       "496    996    DKS                         1469\n",
       "497    997    DLA                         1998\n",
       "498    998    DLB                            0\n",
       "499    999   DLNG                            0\n",
       "\n",
       "[500 rows x 3 columns]"
      ]
     },
     "execution_count": 11,
     "metadata": {},
     "output_type": "execute_result"
    }
   ],
   "source": [
    "df_ticker_debt_ratio2"
   ]
  },
  {
   "cell_type": "code",
   "execution_count": 12,
   "metadata": {},
   "outputs": [],
   "source": [
    "df_ticker_debt_ratio2.to_csv('filter_by_debt_ratio_2.csv',index=False)"
   ]
  },
  {
   "cell_type": "code",
   "execution_count": null,
   "metadata": {},
   "outputs": [],
   "source": []
  }
 ],
 "metadata": {
  "kernelspec": {
   "display_name": "quant",
   "language": "python",
   "name": "python3"
  },
  "language_info": {
   "codemirror_mode": {
    "name": "ipython",
    "version": 3
   },
   "file_extension": ".py",
   "mimetype": "text/x-python",
   "name": "python",
   "nbconvert_exporter": "python",
   "pygments_lexer": "ipython3",
   "version": "3.10.8"
  },
  "orig_nbformat": 4,
  "vscode": {
   "interpreter": {
    "hash": "46d33d01e5720d15a5013799ca97a1bf11234888e1a4f8baa721dca3d047cc65"
   }
  }
 },
 "nbformat": 4,
 "nbformat_minor": 2
}
