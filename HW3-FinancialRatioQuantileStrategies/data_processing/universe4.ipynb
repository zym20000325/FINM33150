{
 "cells": [
  {
   "cell_type": "code",
   "execution_count": 3,
   "metadata": {},
   "outputs": [
    {
     "data": {
      "text/plain": [
       "'3.10.8 (main, Nov 24 2022, 08:09:04) [Clang 14.0.6 ]'"
      ]
     },
     "execution_count": 3,
     "metadata": {},
     "output_type": "execute_result"
    }
   ],
   "source": [
    "import sys\n",
    "sys.version"
   ]
  },
  {
   "cell_type": "code",
   "execution_count": 4,
   "metadata": {},
   "outputs": [],
   "source": [
    "%matplotlib inline\n",
    "\n",
    "import matplotlib.pyplot as plt\n",
    "plt.xkcd()\n",
    "\n",
    "import pandas as pd\n",
    "import numpy as np\n",
    "import scipy as sp\n",
    "import quandl\n",
    "import functools\n",
    "import seaborn as sns\n",
    "import plotnine as p9\n",
    "import statsmodels.api as sm\n",
    "import math\n",
    "\n",
    "pd.options.mode.chained_assignment = None "
   ]
  },
  {
   "cell_type": "code",
   "execution_count": 5,
   "metadata": {},
   "outputs": [],
   "source": [
    "from functions import *"
   ]
  },
  {
   "cell_type": "code",
   "execution_count": 4,
   "metadata": {},
   "outputs": [],
   "source": [
    "def filter_by_sector(tickers_list_,new_ticker_list,zacks_sector_code_list,tickers_remove_list,start_date,end_date):\n",
    "\n",
    "    for ticker in tickers_list_:\n",
    "\n",
    "        if ticker in tickers_remove_list:\n",
    "            continue\n",
    "\n",
    "        df_fc = quandl.get_table('ZACKS/FC',ticker = ticker, per_end_date = {'gte':start_date,'lte':end_date},qopts={\"columns\":\"zacks_sector_code\"})\n",
    "\n",
    "        if len(df_fc)!=0:\n",
    "            sector_code_list = list(df_fc['zacks_sector_code'])\n",
    "\n",
    "            if bool(set(zacks_sector_code_list) & set(sector_code_list))==False:\n",
    "                new_ticker_list.append(ticker)\n",
    "\n",
    "    return new_ticker_list"
   ]
  },
  {
   "cell_type": "code",
   "execution_count": 5,
   "metadata": {},
   "outputs": [],
   "source": [
    "start_date = '2014-06-30'\n",
    "end_date = '2022-06-30'\n",
    "\n",
    "df_tickers = pd.read_csv(\"zacks-tickers.csv\")\n",
    "tickers_list = list(df_tickers['3262Q'])\n",
    "\n",
    "zacks_sector_code_list = [5,13]\n",
    "tickers_remove_list = ['ABEO']\n",
    "\n",
    "new_ticker_list = []\n",
    "new_ticker_list = filter_by_sector(tickers_list[3000:4000],new_ticker_list,zacks_sector_code_list,tickers_remove_list,start_date,end_date)\n",
    "\n",
    "# new_ticker_list"
   ]
  },
  {
   "cell_type": "code",
   "execution_count": 6,
   "metadata": {},
   "outputs": [],
   "source": [
    "df_new_ticker4 = pd.DataFrame(new_ticker_list, columns =['ticker'])"
   ]
  },
  {
   "cell_type": "code",
   "execution_count": 7,
   "metadata": {},
   "outputs": [
    {
     "data": {
      "text/html": [
       "<div>\n",
       "<style scoped>\n",
       "    .dataframe tbody tr th:only-of-type {\n",
       "        vertical-align: middle;\n",
       "    }\n",
       "\n",
       "    .dataframe tbody tr th {\n",
       "        vertical-align: top;\n",
       "    }\n",
       "\n",
       "    .dataframe thead th {\n",
       "        text-align: right;\n",
       "    }\n",
       "</style>\n",
       "<table border=\"1\" class=\"dataframe\">\n",
       "  <thead>\n",
       "    <tr style=\"text-align: right;\">\n",
       "      <th></th>\n",
       "      <th>ticker</th>\n",
       "    </tr>\n",
       "  </thead>\n",
       "  <tbody>\n",
       "    <tr>\n",
       "      <th>0</th>\n",
       "      <td>FDC</td>\n",
       "    </tr>\n",
       "    <tr>\n",
       "      <th>1</th>\n",
       "      <td>FDO</td>\n",
       "    </tr>\n",
       "    <tr>\n",
       "      <th>2</th>\n",
       "      <td>FDP</td>\n",
       "    </tr>\n",
       "    <tr>\n",
       "      <th>3</th>\n",
       "      <td>FDS</td>\n",
       "    </tr>\n",
       "    <tr>\n",
       "      <th>4</th>\n",
       "      <td>FDX</td>\n",
       "    </tr>\n",
       "    <tr>\n",
       "      <th>...</th>\n",
       "      <td>...</td>\n",
       "    </tr>\n",
       "    <tr>\n",
       "      <th>504</th>\n",
       "      <td>IACAF</td>\n",
       "    </tr>\n",
       "    <tr>\n",
       "      <th>505</th>\n",
       "      <td>IAG</td>\n",
       "    </tr>\n",
       "    <tr>\n",
       "      <th>506</th>\n",
       "      <td>IAGX</td>\n",
       "    </tr>\n",
       "    <tr>\n",
       "      <th>507</th>\n",
       "      <td>IART</td>\n",
       "    </tr>\n",
       "    <tr>\n",
       "      <th>508</th>\n",
       "      <td>IBA</td>\n",
       "    </tr>\n",
       "  </tbody>\n",
       "</table>\n",
       "<p>509 rows × 1 columns</p>\n",
       "</div>"
      ],
      "text/plain": [
       "    ticker\n",
       "0      FDC\n",
       "1      FDO\n",
       "2      FDP\n",
       "3      FDS\n",
       "4      FDX\n",
       "..     ...\n",
       "504  IACAF\n",
       "505    IAG\n",
       "506   IAGX\n",
       "507   IART\n",
       "508    IBA\n",
       "\n",
       "[509 rows x 1 columns]"
      ]
     },
     "execution_count": 7,
     "metadata": {},
     "output_type": "execute_result"
    }
   ],
   "source": [
    "df_new_ticker4\n",
    "    "
   ]
  },
  {
   "cell_type": "code",
   "execution_count": 8,
   "metadata": {},
   "outputs": [],
   "source": [
    "df_new_ticker4.to_csv('filter_by_sector_4000.csv',index=False)"
   ]
  },
  {
   "cell_type": "code",
   "execution_count": 9,
   "metadata": {},
   "outputs": [],
   "source": [
    "new_ticker_list8 = []\n",
    "new_ticker_list8 = filter_by_sector(tickers_list[7000:],new_ticker_list,zacks_sector_code_list,tickers_remove_list,start_date,end_date)\n",
    "\n",
    "df_new_ticker8 = pd.DataFrame(new_ticker_list, columns =['ticker'])\n",
    "df_new_ticker8.to_csv('filter_by_sector_8000.csv',index=False)"
   ]
  },
  {
   "cell_type": "code",
   "execution_count": 10,
   "metadata": {},
   "outputs": [
    {
     "data": {
      "text/plain": [
       "1610"
      ]
     },
     "execution_count": 10,
     "metadata": {},
     "output_type": "execute_result"
    }
   ],
   "source": [
    "len(df_new_ticker8)"
   ]
  },
  {
   "cell_type": "code",
   "execution_count": 14,
   "metadata": {},
   "outputs": [
    {
     "name": "stdout",
     "output_type": "stream",
     "text": [
      "1610\n"
     ]
    }
   ],
   "source": [
    "def filter_by_adj_close(tickers_list_,start_date,end_date,num):\n",
    "\n",
    "    filter_by_adj_close_list = []\n",
    "\n",
    "    for ticker in tickers_list_:\n",
    "        df1 = get_adj_close(ticker,start_date,end_date)\n",
    "        if len(df1) == num:\n",
    "            filter_by_adj_close_list.append(ticker)\n",
    "\n",
    "    return filter_by_adj_close_list\n",
    "\n",
    "\n",
    "start_date = '2014-06-30'\n",
    "end_date = '2022-06-30'\n",
    "\n",
    "df8 = pd.read_csv(\"filter_by_sector_8000.csv\")\n",
    "ticker_list8 = list(df8['ticker'])\n",
    "print(len(ticker_list8))\n",
    "\n",
    "filter_by_adj_close_list8 = filter_by_adj_close(ticker_list8,start_date,end_date,2016)"
   ]
  },
  {
   "cell_type": "code",
   "execution_count": 15,
   "metadata": {},
   "outputs": [],
   "source": [
    "df_new_ticker8 = pd.DataFrame(filter_by_adj_close_list8, columns =['ticker'])\n",
    "df_new_ticker8.to_csv('filter_by_adj_close_8000.csv',index=False)"
   ]
  },
  {
   "cell_type": "code",
   "execution_count": 16,
   "metadata": {},
   "outputs": [
    {
     "data": {
      "text/plain": [
       "624"
      ]
     },
     "execution_count": 16,
     "metadata": {},
     "output_type": "execute_result"
    }
   ],
   "source": [
    "len(df_new_ticker8)"
   ]
  },
  {
   "cell_type": "code",
   "execution_count": 6,
   "metadata": {},
   "outputs": [],
   "source": [
    "def filter_by_debt_ratio(df_ticker,start_date,end_date):\n",
    "\n",
    "    df_ticker['debt_ratio_greater_than_0.1'] = 0\n",
    "\n",
    "    for i in range(len(df_ticker)):\n",
    "\n",
    "        ticker = df_ticker['ticker'][i]\n",
    "\n",
    "        df_zack = generate_zacks_data(ticker,start_date,end_date)\n",
    "        df_price = get_adj_close(ticker,start_date,end_date)\n",
    "\n",
    "        df = df_price.join(df_zack,how='outer')\n",
    "        df['adj_close'] =  df['adj_close'].fillna(method='ffill')\n",
    "\n",
    "        df1 = debt_to_market_cap(df,df_zack)\n",
    "\n",
    "        count = df1[['debt_to_market_cap']][df1[['debt_to_market_cap']]  > 0.1].count()\n",
    "\n",
    "        df_ticker['debt_ratio_greater_than_0.1'][i] = count\n",
    "\n",
    "        # if i==100:\n",
    "        #     break\n",
    "\n",
    "    return df_ticker"
   ]
  },
  {
   "cell_type": "code",
   "execution_count": 9,
   "metadata": {},
   "outputs": [
    {
     "name": "stdout",
     "output_type": "stream",
     "text": [
      "1975\n",
      "475\n"
     ]
    }
   ],
   "source": [
    "start_date = '2014-06-30'\n",
    "end_date = '2022-06-30'\n",
    "\n",
    "df_ticker_adj_close = pd.read_csv(\"filter_by_adj_close.csv\")\n",
    "print(len(df_ticker_adj_close))\n",
    "\n",
    "df_ticker_adj_close = df_ticker_adj_close[1500:]\n",
    "df_ticker_adj_close.reset_index(inplace=True)\n",
    "print(len(df_ticker_adj_close))\n",
    "\n",
    "df_ticker_debt_ratio4 = filter_by_debt_ratio(df_ticker_adj_close,start_date,end_date)"
   ]
  },
  {
   "cell_type": "code",
   "execution_count": 10,
   "metadata": {},
   "outputs": [],
   "source": [
    "df_ticker_debt_ratio4.to_csv('filter_by_debt_ratio_4.csv',index=False)"
   ]
  },
  {
   "cell_type": "code",
   "execution_count": null,
   "metadata": {},
   "outputs": [],
   "source": []
  },
  {
   "cell_type": "code",
   "execution_count": null,
   "metadata": {},
   "outputs": [],
   "source": []
  },
  {
   "cell_type": "code",
   "execution_count": null,
   "metadata": {},
   "outputs": [],
   "source": []
  }
 ],
 "metadata": {
  "kernelspec": {
   "display_name": "quant",
   "language": "python",
   "name": "python3"
  },
  "language_info": {
   "codemirror_mode": {
    "name": "ipython",
    "version": 3
   },
   "file_extension": ".py",
   "mimetype": "text/x-python",
   "name": "python",
   "nbconvert_exporter": "python",
   "pygments_lexer": "ipython3",
   "version": "3.10.8"
  },
  "orig_nbformat": 4,
  "vscode": {
   "interpreter": {
    "hash": "46d33d01e5720d15a5013799ca97a1bf11234888e1a4f8baa721dca3d047cc65"
   }
  }
 },
 "nbformat": 4,
 "nbformat_minor": 2
}
